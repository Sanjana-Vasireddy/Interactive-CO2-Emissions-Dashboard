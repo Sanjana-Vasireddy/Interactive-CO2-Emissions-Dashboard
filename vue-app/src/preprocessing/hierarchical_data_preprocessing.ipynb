{
 "cells": [
  {
   "cell_type": "code",
   "execution_count": 1,
   "id": "56379999",
   "metadata": {},
   "outputs": [],
   "source": [
    "import pandas as pd"
   ]
  },
  {
   "cell_type": "code",
   "execution_count": 2,
   "id": "81146daa",
   "metadata": {},
   "outputs": [],
   "source": [
    "import numpy as np"
   ]
  },
  {
   "cell_type": "code",
   "execution_count": 3,
   "id": "09bac292",
   "metadata": {},
   "outputs": [],
   "source": [
    "pd.set_option('display.max_rows', None)"
   ]
  },
  {
   "cell_type": "code",
   "execution_count": 4,
   "id": "38072449",
   "metadata": {},
   "outputs": [],
   "source": [
    "df = pd.read_excel('../data/climate_change_download_0.xls')"
   ]
  },
  {
   "cell_type": "code",
   "execution_count": 5,
   "id": "e77bcbd8",
   "metadata": {},
   "outputs": [
    {
     "data": {
      "text/plain": [
       "Index(['Country code', 'Country name',  'Series code',  'Series name',\n",
       "              'SCALE',     'Decimals',           1990,           1991,\n",
       "                 1992,           1993,           1994,           1995,\n",
       "                 1996,           1997,           1998,           1999,\n",
       "                 2000,           2001,           2002,           2003,\n",
       "                 2004,           2005,           2006,           2007,\n",
       "                 2008,           2009,           2010,           2011],\n",
       "      dtype='object')"
      ]
     },
     "execution_count": 5,
     "metadata": {},
     "output_type": "execute_result"
    }
   ],
   "source": [
    "df.columns"
   ]
  },
  {
   "cell_type": "code",
   "execution_count": 6,
   "id": "10afa41c",
   "metadata": {},
   "outputs": [],
   "source": [
    "df = df[['Country name', 'Series name', 1990, 2000, 2005, 2010]]"
   ]
  },
  {
   "cell_type": "code",
   "execution_count": 7,
   "id": "4cb3c641",
   "metadata": {},
   "outputs": [
    {
     "data": {
      "text/plain": [
       "array(['Land area below 5m (% of land area)',\n",
       "       'Agricultural land under irrigation (% of total ag. land)',\n",
       "       'Cereal yield (kg per hectare)',\n",
       "       'Foreign direct investment, net inflows (% of GDP)',\n",
       "       'Access to electricity (% of total population)',\n",
       "       'Energy use per units of GDP (kg oil eq./$1,000 of 2005 PPP $)',\n",
       "       'Energy use per capita (kilograms of oil equivalent)',\n",
       "       'CO2 emissions, total (KtCO2)',\n",
       "       'CO2 emissions per capita (metric tons)',\n",
       "       'CO2 emissions per units of GDP (kg/$1,000 of 2005 PPP $)',\n",
       "       'Other GHG emissions, total (KtCO2e)',\n",
       "       'Methane (CH4) emissions, total (KtCO2e)',\n",
       "       'Nitrous oxide (N2O) emissions, total (KtCO2e)',\n",
       "       'Annex-I emissions reduction target',\n",
       "       'Disaster risk reduction progress score (1-5 scale; 5=best)',\n",
       "       'GHG net emissions/removals by LUCF (MtCO2e)',\n",
       "       'Hosted Clean Development Mechanism (CDM) projects',\n",
       "       'Hosted Joint Implementation (JI) projects',\n",
       "       'Average annual precipitation (1961-1990, mm)',\n",
       "       'Issued Certified Emission Reductions (CERs) from CDM (thousands)',\n",
       "       'Issued Emission Reduction Units (ERUs) from JI (thousands)',\n",
       "       'Droughts, floods, extreme temps (% pop. avg. 1990-2009)',\n",
       "       'Average daily min/max temperature (1961-1990, Celsius)',\n",
       "       'NAMA submission', 'NAPA submission',\n",
       "       'Latest UNFCCC national communication',\n",
       "       'Projected annual temperature change (2045-2065, Celsius)',\n",
       "       'Projected change in annual cool days/cold nights',\n",
       "       'Projected change in annual hot days/warm nights',\n",
       "       'Projected annual precipitation change (2045-2065, mm)',\n",
       "       'Renewable energy target', 'Population below 5m (% of total)',\n",
       "       'Population in urban agglomerations >1million (%)',\n",
       "       'Annual freshwater withdrawals (% of internal resources)',\n",
       "       'Nationally terrestrial protected areas (% of total land area)',\n",
       "       'Ease of doing business (ranking 1-183; 1=best)',\n",
       "       'Invest. in energy w/ private participation ($)',\n",
       "       'Invest. in telecoms w/ private participation ($)',\n",
       "       'Invest. in transport w/ private participation ($)',\n",
       "       'Invest. in water/sanit. w/ private participation ($)',\n",
       "       'Public sector mgmt & institutions avg. (1-6 scale; 6=best)',\n",
       "       'Paved roads (% of total roads)', 'GDP ($)',\n",
       "       'GNI per capita (Atlas $)',\n",
       "       'Ratio of girls to boys in primary & secondary school (%)',\n",
       "       'Primary completion rate, total (% of relevant age group)',\n",
       "       'Under-five mortality rate (per 1,000)',\n",
       "       'Access to improved water source (% of total pop.)',\n",
       "       'Nurses and midwives (per 1,000 people)',\n",
       "       'Physicians (per 1,000 people)',\n",
       "       'Malaria incidence rate (per 100,000 people)',\n",
       "       'Access to improved sanitation (% of total pop.)',\n",
       "       'Child malnutrition, underweight (% of under age 5)',\n",
       "       'Population living below $1.25 a day (% of total)',\n",
       "       'Population growth (annual %)', 'Population',\n",
       "       'Urban population growth (annual %)', 'Urban population'],\n",
       "      dtype=object)"
      ]
     },
     "execution_count": 7,
     "metadata": {},
     "output_type": "execute_result"
    }
   ],
   "source": [
    "df['Series name'].unique()"
   ]
  },
  {
   "cell_type": "code",
   "execution_count": 8,
   "id": "d21e154e",
   "metadata": {},
   "outputs": [],
   "source": [
    "# df = df[df['Series name'].isin(['Land area below 5m (% of land area)','Cereal yield (kg per hectare)', 'CO2 emissions per capita (metric tons)', \\\n",
    "#                                 'Foreign direct investment, net inflows (% of GDP)', 'GNI per capita (Atlas $)', \\\n",
    "#                                'Energy use per capita (kilograms of oil equivalent)', 'Population in urban agglomerations >1million (%)', \\\n",
    "#                                'Nationally terrestrial protected areas (% of total land area)', 'Population growth (annual %)', \\\n",
    "#                                'Urban population growth (annual %)'])]"
   ]
  },
  {
   "cell_type": "code",
   "execution_count": 9,
   "id": "8d2adb92",
   "metadata": {},
   "outputs": [],
   "source": [
    "df = df[df['Series name'].isin(['GNI per capita (Atlas $)', 'Energy use per capita (kilograms of oil equivalent)', \\\n",
    "                                'Population in urban agglomerations >1million (%)', 'Population growth (annual %)', \\\n",
    "                               'Nationally terrestrial protected areas (% of total land area)'])]"
   ]
  },
  {
   "cell_type": "code",
   "execution_count": 10,
   "id": "2b81b797",
   "metadata": {},
   "outputs": [
    {
     "data": {
      "text/html": [
       "<div>\n",
       "<style scoped>\n",
       "    .dataframe tbody tr th:only-of-type {\n",
       "        vertical-align: middle;\n",
       "    }\n",
       "\n",
       "    .dataframe tbody tr th {\n",
       "        vertical-align: top;\n",
       "    }\n",
       "\n",
       "    .dataframe thead th {\n",
       "        text-align: right;\n",
       "    }\n",
       "</style>\n",
       "<table border=\"1\" class=\"dataframe\">\n",
       "  <thead>\n",
       "    <tr style=\"text-align: right;\">\n",
       "      <th></th>\n",
       "      <th>Country name</th>\n",
       "      <th>Series name</th>\n",
       "      <th>1990</th>\n",
       "      <th>2000</th>\n",
       "      <th>2005</th>\n",
       "      <th>2010</th>\n",
       "    </tr>\n",
       "  </thead>\n",
       "  <tbody>\n",
       "    <tr>\n",
       "      <th>1398</th>\n",
       "      <td>Aruba</td>\n",
       "      <td>Energy use per capita (kilograms of oil equiva...</td>\n",
       "      <td>..</td>\n",
       "      <td>..</td>\n",
       "      <td>..</td>\n",
       "      <td>..</td>\n",
       "    </tr>\n",
       "    <tr>\n",
       "      <th>1399</th>\n",
       "      <td>Andorra</td>\n",
       "      <td>Energy use per capita (kilograms of oil equiva...</td>\n",
       "      <td>..</td>\n",
       "      <td>..</td>\n",
       "      <td>..</td>\n",
       "      <td>..</td>\n",
       "    </tr>\n",
       "    <tr>\n",
       "      <th>1400</th>\n",
       "      <td>Afghanistan</td>\n",
       "      <td>Energy use per capita (kilograms of oil equiva...</td>\n",
       "      <td>..</td>\n",
       "      <td>..</td>\n",
       "      <td>..</td>\n",
       "      <td>..</td>\n",
       "    </tr>\n",
       "    <tr>\n",
       "      <th>1401</th>\n",
       "      <td>Angola</td>\n",
       "      <td>Energy use per capita (kilograms of oil equiva...</td>\n",
       "      <td>569.242999</td>\n",
       "      <td>533.443417</td>\n",
       "      <td>551.955632</td>\n",
       "      <td>..</td>\n",
       "    </tr>\n",
       "    <tr>\n",
       "      <th>1402</th>\n",
       "      <td>Albania</td>\n",
       "      <td>Energy use per capita (kilograms of oil equiva...</td>\n",
       "      <td>809.215612</td>\n",
       "      <td>574.984635</td>\n",
       "      <td>724.181361</td>\n",
       "      <td>..</td>\n",
       "    </tr>\n",
       "  </tbody>\n",
       "</table>\n",
       "</div>"
      ],
      "text/plain": [
       "     Country name                                        Series name  \\\n",
       "1398        Aruba  Energy use per capita (kilograms of oil equiva...   \n",
       "1399      Andorra  Energy use per capita (kilograms of oil equiva...   \n",
       "1400  Afghanistan  Energy use per capita (kilograms of oil equiva...   \n",
       "1401       Angola  Energy use per capita (kilograms of oil equiva...   \n",
       "1402      Albania  Energy use per capita (kilograms of oil equiva...   \n",
       "\n",
       "            1990        2000        2005 2010  \n",
       "1398          ..          ..          ..   ..  \n",
       "1399          ..          ..          ..   ..  \n",
       "1400          ..          ..          ..   ..  \n",
       "1401  569.242999  533.443417  551.955632   ..  \n",
       "1402  809.215612  574.984635  724.181361   ..  "
      ]
     },
     "execution_count": 10,
     "metadata": {},
     "output_type": "execute_result"
    }
   ],
   "source": [
    "df.head()"
   ]
  },
  {
   "cell_type": "code",
   "execution_count": 11,
   "id": "161d2aae",
   "metadata": {},
   "outputs": [],
   "source": [
    "# df = df.replace('..', np.nan)"
   ]
  },
  {
   "cell_type": "code",
   "execution_count": 12,
   "id": "94b0a6c3",
   "metadata": {},
   "outputs": [],
   "source": [
    "# df = df.dropna()"
   ]
  },
  {
   "cell_type": "code",
   "execution_count": 13,
   "id": "2bb66691",
   "metadata": {},
   "outputs": [
    {
     "data": {
      "text/plain": [
       "array(['Energy use per capita (kilograms of oil equivalent)',\n",
       "       'Population in urban agglomerations >1million (%)',\n",
       "       'Nationally terrestrial protected areas (% of total land area)',\n",
       "       'GNI per capita (Atlas $)', 'Population growth (annual %)'],\n",
       "      dtype=object)"
      ]
     },
     "execution_count": 13,
     "metadata": {},
     "output_type": "execute_result"
    }
   ],
   "source": [
    "df['Series name'].unique()"
   ]
  },
  {
   "cell_type": "code",
   "execution_count": 14,
   "id": "ebb9a1d9",
   "metadata": {},
   "outputs": [
    {
     "data": {
      "text/plain": [
       "Index(['Aruba', 'Nepal', 'Mauritius', 'Malawi', 'Malaysia', 'Mayotte',\n",
       "       'Namibia', 'New Caledonia', 'Niger', 'Nigeria',\n",
       "       ...\n",
       "       'Gambia, The', 'Guinea-Bissau', 'Equatorial Guinea', 'Greece',\n",
       "       'Grenada', 'Greenland', 'Guatemala', 'Guam', 'Zimbabwe',\n",
       "       'Small island developing states'],\n",
       "      dtype='object', length=233)"
      ]
     },
     "execution_count": 14,
     "metadata": {},
     "output_type": "execute_result"
    }
   ],
   "source": [
    "df['Country name'].value_counts().index"
   ]
  },
  {
   "cell_type": "code",
   "execution_count": 15,
   "id": "ebdd8dbe",
   "metadata": {},
   "outputs": [],
   "source": [
    "df = df[df['Country name'].isin(['Austria', 'Portugal', 'United States', 'Germany', 'Spain', 'France',\n",
    "       'United Kingdom', 'Greece', 'Hungary', 'Belgium', 'Ireland', 'Italy',\n",
    "       'Japan', 'Netherlands', 'Romania', 'India', 'Poland', 'Canada', 'China',\n",
    "       'Saudi Arabia', 'Slovenia'])]"
   ]
  },
  {
   "cell_type": "code",
   "execution_count": 16,
   "id": "1aa378d2",
   "metadata": {},
   "outputs": [
    {
     "data": {
      "text/plain": [
       "Index(['Country name', 'Series name', 1990, 2000, 2005, 2010], dtype='object')"
      ]
     },
     "execution_count": 16,
     "metadata": {},
     "output_type": "execute_result"
    }
   ],
   "source": [
    "df.columns"
   ]
  },
  {
   "cell_type": "code",
   "execution_count": 17,
   "id": "4a3486be",
   "metadata": {},
   "outputs": [],
   "source": [
    "df_melted = pd.melt(df, id_vars=['Series name', 'Country name'], value_vars=[1990, 2000, 2005, 2010]).sort_values(['Series name', 'Country name']).reset_index(drop=True)"
   ]
  },
  {
   "cell_type": "code",
   "execution_count": 18,
   "id": "18e71395",
   "metadata": {
    "scrolled": true
   },
   "outputs": [],
   "source": [
    "# df_melted"
   ]
  },
  {
   "cell_type": "code",
   "execution_count": 19,
   "id": "b13f29cd",
   "metadata": {},
   "outputs": [],
   "source": [
    "# df_melted = df_melted.replace('..', '')"
   ]
  },
  {
   "cell_type": "code",
   "execution_count": 20,
   "id": "048a1fd1",
   "metadata": {},
   "outputs": [],
   "source": [
    "# df_group = df_melted.groupby(['Series name', 'Country name']).apply(lambda x: x.to_dict(orient='records'))"
   ]
  },
  {
   "cell_type": "code",
   "execution_count": 21,
   "id": "f9f546cc",
   "metadata": {},
   "outputs": [],
   "source": [
    "# df_melted.to_json('data_json.json', orient='records')"
   ]
  },
  {
   "cell_type": "code",
   "execution_count": 22,
   "id": "f7414204",
   "metadata": {},
   "outputs": [],
   "source": [
    "# df_melted"
   ]
  },
  {
   "cell_type": "code",
   "execution_count": 23,
   "id": "c8eccd5b",
   "metadata": {
    "scrolled": true
   },
   "outputs": [],
   "source": [
    "# #dict_data = {\"name\": \"Co2\", \"children\": []}\n",
    "# from collections import defaultdict\n",
    "# dict_data = []\n",
    "# series_set = set()\n",
    "# i = 0\n",
    "# j=0\n",
    "# k=0\n",
    "# for s, c, d, v in df_melted.values:\n",
    "# #     print(i, j)\n",
    "# #     print(dict_data)\n",
    "#     if s in series_set:\n",
    "#         if dict_data[j-1][\"name\"] == s:\n",
    "#             if dict_data[j-1][\"children\"][i-1][\"name\"] == c:\n",
    "#                 dict_data[j-1][\"children\"][i-1][\"children\"].append({\"name\": str(d), \"value\": v})\n",
    "# #                 print(\"A\",i, j)\n",
    "#             else:\n",
    "                \n",
    "#                 dict_data[j-1][\"children\"].append({\"name\": c, \"children\": [{\"name\": str(d), \"value\": v}]})\n",
    "#                 #dict_data[\"chldren\"][i][\"children\"].append({\"name\": d, \"value\": v})\n",
    "#                 i+=1\n",
    "# #                 print(\"B\", i, j)\n",
    "#     else:\n",
    "#         dict_data.append({\"name\": s, \"children\": [{\"name\": c, \"children\": [{\"name\": str(d), \"value\": v}]}]})\n",
    "#         series_set.add(s)\n",
    "#         j+=1\n",
    "#         i=1\n",
    "# #         print(\"C\", i, j)"
   ]
  },
  {
   "cell_type": "code",
   "execution_count": 24,
   "id": "fca94bb4",
   "metadata": {},
   "outputs": [],
   "source": [
    "#dict_data = {\"name\": \"Co2\", \"children\": []}\n",
    "from collections import defaultdict\n",
    "dict_data = []\n",
    "series_set = set()\n",
    "i = 0\n",
    "j=0\n",
    "k=0\n",
    "for s, c, d, v in df_melted.values:\n",
    "    if v!=\"..\":\n",
    "        if s in series_set:\n",
    "            if dict_data[j-1][\"name\"] == s:\n",
    "                if dict_data[j-1][\"children\"][i-1][\"name\"] == c:\n",
    "                    dict_data[j-1][\"children\"][i-1][\"children\"].append({\"name\": str(d), \"value\": v})\n",
    "                else:\n",
    "\n",
    "                    dict_data[j-1][\"children\"].append({\"name\": c, \"children\": [{\"name\": str(d), \"value\": v}]})\n",
    "                    i+=1\n",
    "        else:\n",
    "            dict_data.append({\"name\": s, \"children\": [{\"name\": c, \"children\": [{\"name\": str(d), \"value\": v}]}]})\n",
    "            series_set.add(s)\n",
    "            j+=1\n",
    "            i=1"
   ]
  },
  {
   "cell_type": "code",
   "execution_count": 25,
   "id": "95aea808",
   "metadata": {},
   "outputs": [],
   "source": [
    "final_data = {\"name\": \"Co2 emission\", \"children\": dict_data}"
   ]
  },
  {
   "cell_type": "code",
   "execution_count": 26,
   "id": "0b13bb58",
   "metadata": {},
   "outputs": [],
   "source": [
    "import json \n",
    "with open(\"../data/co2_data_hierarchical.json\", \"w\") as outfile:\n",
    "    json.dump(final_data, outfile)"
   ]
  },
  {
   "cell_type": "code",
   "execution_count": null,
   "id": "b8320cc2",
   "metadata": {},
   "outputs": [],
   "source": []
  }
 ],
 "metadata": {
  "kernelspec": {
   "display_name": "Python 3 (ipykernel)",
   "language": "python",
   "name": "python3"
  },
  "language_info": {
   "codemirror_mode": {
    "name": "ipython",
    "version": 3
   },
   "file_extension": ".py",
   "mimetype": "text/x-python",
   "name": "python",
   "nbconvert_exporter": "python",
   "pygments_lexer": "ipython3",
   "version": "3.9.7"
  },
  "vscode": {
   "interpreter": {
    "hash": "2d2006d0665a0e693e5dde3e450724f2b3be45dd1e9bcdad720cdf2e0242fa9b"
   }
  }
 },
 "nbformat": 4,
 "nbformat_minor": 5
}
